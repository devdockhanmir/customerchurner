{
 "cells": [
  {
   "cell_type": "code",
   "execution_count": 2,
   "id": "e00a056b-bb37-4e33-a329-e5a6cfbb5579",
   "metadata": {},
   "outputs": [
    {
     "name": "stdout",
     "output_type": "stream",
     "text": [
      "Dataset loaded successfully!\n",
      "   customerID  gender  SeniorCitizen Partner Dependents  tenure PhoneService  \\\n",
      "0  7590-VHVEG  Female              0     Yes         No       1           No   \n",
      "1  5575-GNVDE    Male              0      No         No      34          Yes   \n",
      "2  3668-QPYBK    Male              0      No         No       2          Yes   \n",
      "3  7795-CFOCW    Male              0      No         No      45           No   \n",
      "4  9237-HQITU  Female              0      No         No       2          Yes   \n",
      "\n",
      "      MultipleLines InternetService OnlineSecurity  ... DeviceProtection  \\\n",
      "0  No phone service             DSL             No  ...               No   \n",
      "1                No             DSL            Yes  ...              Yes   \n",
      "2                No             DSL            Yes  ...               No   \n",
      "3  No phone service             DSL            Yes  ...              Yes   \n",
      "4                No     Fiber optic             No  ...               No   \n",
      "\n",
      "  TechSupport StreamingTV StreamingMovies        Contract PaperlessBilling  \\\n",
      "0          No          No              No  Month-to-month              Yes   \n",
      "1          No          No              No        One year               No   \n",
      "2          No          No              No  Month-to-month              Yes   \n",
      "3         Yes          No              No        One year               No   \n",
      "4          No          No              No  Month-to-month              Yes   \n",
      "\n",
      "               PaymentMethod MonthlyCharges  TotalCharges Churn  \n",
      "0           Electronic check          29.85         29.85    No  \n",
      "1               Mailed check          56.95        1889.5    No  \n",
      "2               Mailed check          53.85        108.15   Yes  \n",
      "3  Bank transfer (automatic)          42.30       1840.75    No  \n",
      "4           Electronic check          70.70        151.65   Yes  \n",
      "\n",
      "[5 rows x 21 columns]\n"
     ]
    }
   ],
   "source": [
    "import pandas as pd\n",
    "\n",
    "# Load dataset\n",
    "data = pd.read_csv(\"telco_churn.csv\")  # Replace with the correct filename\n",
    "print(\"Dataset loaded successfully!\")\n",
    "print(data.head())\n"
   ]
  },
  {
   "cell_type": "code",
   "execution_count": 3,
   "id": "2aae31fa-27ad-455b-8772-42641a9877e6",
   "metadata": {},
   "outputs": [
    {
     "name": "stdout",
     "output_type": "stream",
     "text": [
      "<class 'pandas.core.frame.DataFrame'>\n",
      "RangeIndex: 7043 entries, 0 to 7042\n",
      "Data columns (total 21 columns):\n",
      " #   Column            Non-Null Count  Dtype  \n",
      "---  ------            --------------  -----  \n",
      " 0   customerID        7043 non-null   object \n",
      " 1   gender            7043 non-null   object \n",
      " 2   SeniorCitizen     7043 non-null   int64  \n",
      " 3   Partner           7043 non-null   object \n",
      " 4   Dependents        7043 non-null   object \n",
      " 5   tenure            7043 non-null   int64  \n",
      " 6   PhoneService      7043 non-null   object \n",
      " 7   MultipleLines     7043 non-null   object \n",
      " 8   InternetService   7043 non-null   object \n",
      " 9   OnlineSecurity    7043 non-null   object \n",
      " 10  OnlineBackup      7043 non-null   object \n",
      " 11  DeviceProtection  7043 non-null   object \n",
      " 12  TechSupport       7043 non-null   object \n",
      " 13  StreamingTV       7043 non-null   object \n",
      " 14  StreamingMovies   7043 non-null   object \n",
      " 15  Contract          7043 non-null   object \n",
      " 16  PaperlessBilling  7043 non-null   object \n",
      " 17  PaymentMethod     7043 non-null   object \n",
      " 18  MonthlyCharges    7043 non-null   float64\n",
      " 19  TotalCharges      7043 non-null   object \n",
      " 20  Churn             7043 non-null   object \n",
      "dtypes: float64(1), int64(2), object(18)\n",
      "memory usage: 1.1+ MB\n",
      "None\n",
      "       SeniorCitizen       tenure  MonthlyCharges\n",
      "count    7043.000000  7043.000000     7043.000000\n",
      "mean        0.162147    32.371149       64.761692\n",
      "std         0.368612    24.559481       30.090047\n",
      "min         0.000000     0.000000       18.250000\n",
      "25%         0.000000     9.000000       35.500000\n",
      "50%         0.000000    29.000000       70.350000\n",
      "75%         0.000000    55.000000       89.850000\n",
      "max         1.000000    72.000000      118.750000\n",
      "Missing values:\n",
      " customerID          0\n",
      "gender              0\n",
      "SeniorCitizen       0\n",
      "Partner             0\n",
      "Dependents          0\n",
      "tenure              0\n",
      "PhoneService        0\n",
      "MultipleLines       0\n",
      "InternetService     0\n",
      "OnlineSecurity      0\n",
      "OnlineBackup        0\n",
      "DeviceProtection    0\n",
      "TechSupport         0\n",
      "StreamingTV         0\n",
      "StreamingMovies     0\n",
      "Contract            0\n",
      "PaperlessBilling    0\n",
      "PaymentMethod       0\n",
      "MonthlyCharges      0\n",
      "TotalCharges        0\n",
      "Churn               0\n",
      "dtype: int64\n"
     ]
    }
   ],
   "source": [
    "# Check dataset structure\n",
    "print(data.info())\n",
    "\n",
    "# Summary statistics\n",
    "print(data.describe())\n",
    "\n",
    "# Check for missing values\n",
    "print(\"Missing values:\\n\", data.isnull().sum())\n"
   ]
  },
  {
   "cell_type": "code",
   "execution_count": 6,
   "id": "698e299c-e18d-4435-9abc-0a89ea6f5e74",
   "metadata": {},
   "outputs": [
    {
     "name": "stderr",
     "output_type": "stream",
     "text": [
      "/tmp/ipykernel_132/615758299.py:9: FutureWarning: \n",
      "\n",
      "Passing `palette` without assigning `hue` is deprecated and will be removed in v0.14.0. Assign the `x` variable to `hue` and set `legend=False` for the same effect.\n",
      "\n",
      "  sns.countplot(x=\"Churn\", data=data, palette=\"coolwarm\")\n"
     ]
    },
    {
     "data": {
      "image/png": "[encoded data removed]",
      "text/plain": [
       "<Figure size 600x400 with 1 Axes>"
      ]
     },
     "metadata": {},
     "output_type": "display_data"
    }
   ],
   "source": [
    "import matplotlib.pyplot as plt\n",
    "import seaborn as sns\n",
    "\n",
    "# Set style\n",
    "sns.set(style=\"whitegrid\")\n",
    "\n",
    "# Churn distribution\n",
    "plt.figure(figsize=(6, 4))\n",
    "sns.countplot(x=\"Churn\", data=data, palette=\"coolwarm\")\n",
    "plt.title(\"Churn Distribution\")\n",
    "plt.show()\n"
   ]
  },
  {
   "cell_type": "code",
   "execution_count": 5,
   "id": "1e86ebdc-a2ae-4ff3-8a52-b01d4ba013b6",
   "metadata": {},
   "outputs": [
    {
     "name": "stdout",
     "output_type": "stream",
     "text": [
      "Collecting seaborn\n",
      "  Downloading seaborn-0.13.2-py3-none-any.whl.metadata (5.4 kB)\n",
      "Requirement already satisfied: numpy!=1.24.0,>=1.20 in /opt/conda/lib/python3.11/site-packages (from seaborn) (1.26.4)\n",
      "Requirement already satisfied: pandas>=1.2 in /opt/conda/lib/python3.11/site-packages (from seaborn) (2.2.3)\n",
      "Requirement already satisfied: matplotlib!=3.6.1,>=3.4 in /opt/conda/lib/python3.11/site-packages (from seaborn) (3.9.2)\n",
      "Requirement already satisfied: contourpy>=1.0.1 in /opt/conda/lib/python3.11/site-packages (from matplotlib!=3.6.1,>=3.4->seaborn) (1.3.0)\n",
      "Requirement already satisfied: cycler>=0.10 in /opt/conda/lib/python3.11/site-packages (from matplotlib!=3.6.1,>=3.4->seaborn) (0.12.1)\n",
      "Requirement already satisfied: fonttools>=4.22.0 in /opt/conda/lib/python3.11/site-packages (from matplotlib!=3.6.1,>=3.4->seaborn) (4.54.1)\n",
      "Requirement already satisfied: kiwisolver>=1.3.1 in /opt/conda/lib/python3.11/site-packages (from matplotlib!=3.6.1,>=3.4->seaborn) (1.4.7)\n",
      "Requirement already satisfied: packaging>=20.0 in /opt/conda/lib/python3.11/site-packages (from matplotlib!=3.6.1,>=3.4->seaborn) (24.1)\n",
      "Requirement already satisfied: pillow>=8 in /opt/conda/lib/python3.11/site-packages (from matplotlib!=3.6.1,>=3.4->seaborn) (10.4.0)\n",
      "Requirement already satisfied: pyparsing>=2.3.1 in /opt/conda/lib/python3.11/site-packages (from matplotlib!=3.6.1,>=3.4->seaborn) (3.2.0)\n",
      "Requirement already satisfied: python-dateutil>=2.7 in /opt/conda/lib/python3.11/site-packages (from matplotlib!=3.6.1,>=3.4->seaborn) (2.9.0)\n",
      "Requirement already satisfied: pytz>=2020.1 in /opt/conda/lib/python3.11/site-packages (from pandas>=1.2->seaborn) (2023.3)\n",
      "Requirement already satisfied: tzdata>=2022.7 in /opt/conda/lib/python3.11/site-packages (from pandas>=1.2->seaborn) (2024.2)\n",
      "Requirement already satisfied: six>=1.5 in /opt/conda/lib/python3.11/site-packages (from python-dateutil>=2.7->matplotlib!=3.6.1,>=3.4->seaborn) (1.16.0)\n",
      "Downloading seaborn-0.13.2-py3-none-any.whl (294 kB)\n",
      "Installing collected packages: seaborn\n",
      "Successfully installed seaborn-0.13.2\n",
      "Requirement already satisfied: matplotlib in /opt/conda/lib/python3.11/site-packages (3.9.2)\n",
      "Requirement already satisfied: contourpy>=1.0.1 in /opt/conda/lib/python3.11/site-packages (from matplotlib) (1.3.0)\n",
      "Requirement already satisfied: cycler>=0.10 in /opt/conda/lib/python3.11/site-packages (from matplotlib) (0.12.1)\n",
      "Requirement already satisfied: fonttools>=4.22.0 in /opt/conda/lib/python3.11/site-packages (from matplotlib) (4.54.1)\n",
      "Requirement already satisfied: kiwisolver>=1.3.1 in /opt/conda/lib/python3.11/site-packages (from matplotlib) (1.4.7)\n",
      "Requirement already satisfied: numpy>=1.23 in /opt/conda/lib/python3.11/site-packages (from matplotlib) (1.26.4)\n",
      "Requirement already satisfied: packaging>=20.0 in /opt/conda/lib/python3.11/site-packages (from matplotlib) (24.1)\n",
      "Requirement already satisfied: pillow>=8 in /opt/conda/lib/python3.11/site-packages (from matplotlib) (10.4.0)\n",
      "Requirement already satisfied: pyparsing>=2.3.1 in /opt/conda/lib/python3.11/site-packages (from matplotlib) (3.2.0)\n",
      "Requirement already satisfied: python-dateutil>=2.7 in /opt/conda/lib/python3.11/site-packages (from matplotlib) (2.9.0)\n",
      "Requirement already satisfied: six>=1.5 in /opt/conda/lib/python3.11/site-packages (from python-dateutil>=2.7->matplotlib) (1.16.0)\n"
     ]
    }
   ],
   "source": [
    "!pip install seaborn\n",
    "!pip install matplotlib"
   ]
  },
  {
   "cell_type": "code",
   "execution_count": 7,
   "id": "0e3ec510-4850-4a21-aee4-f31cc207061c",
   "metadata": {},
   "outputs": [
    {
     "name": "stdout",
     "output_type": "stream",
     "text": [
      "Processed file saved locally.\n"
     ]
    }
   ],
   "source": [
    "# Save processed data\n",
    "data = data.dropna()  # Example preprocessing step\n",
    "data['Churn'] = data['Churn'].apply(lambda x: 1 if x == 'Yes' else 0)\n",
    "data.to_csv(\"processed_telco_churn.csv\", index=False)\n",
    "print(\"Processed file saved locally.\")\n"
   ]
  },
  {
   "cell_type": "code",
   "execution_count": 9,
   "id": "1d2b04dc-0148-420d-a3a9-4ab5a656e0c1",
   "metadata": {},
   "outputs": [
    {
     "name": "stdout",
     "output_type": "stream",
     "text": [
      "Processed file saved locally.\n",
      "Processed file uploaded to s3://customerchurner/processed/processed_telco_churn.csv\n"
     ]
    }
   ],
   "source": [
    "import boto3\n",
    "import pandas as pd\n",
    "\n",
    "# Preprocess Data\n",
    "data = pd.read_csv(\"telco_churn.csv\")\n",
    "data = data.dropna()  # Drop missing values\n",
    "data['Churn'] = data['Churn'].apply(lambda x: 1 if x == 'Yes' else 0)\n",
    "\n",
    "# Save processed file locally\n",
    "processed_file = \"processed_telco_churn.csv\"\n",
    "data.to_csv(processed_file, index=False)\n",
    "print(\"Processed file saved locally.\")\n",
    "\n",
    "# S3 Configuration\n",
    "bucket_name = \"customerchurner\"  # Replace with your bucket name\n",
    "s3_key = \"processed/processed_telco_churn.csv\"  # Path in S3 bucket\n",
    "\n",
    "# Upload processed file to S3\n",
    "s3 = boto3.client('s3')\n",
    "s3.upload_file(processed_file, bucket_name, s3_key)\n",
    "\n",
    "print(f\"Processed file uploaded to s3://{bucket_name}/{s3_key}\")\n"
   ]
  },
  {
   "cell_type": "code",
   "execution_count": 16,
   "id": "370c190f-06dd-4ad6-b6f6-fb04f703e124",
   "metadata": {},
   "outputs": [
    {
     "name": "stdout",
     "output_type": "stream",
     "text": [
      "Original target labels: [0]\n",
      "Corrected target labels: [0]\n",
      "Corrected dataset saved locally as processed_telco_churn.csv.\n",
      "Corrected dataset uploaded to s3://customerchurner/processed/processed_telco_churn.csv\n"
     ]
    }
   ],
   "source": [
    "import pandas as pd\n",
    "import boto3\n",
    "\n",
    "# Local file path\n",
    "processed_file = \"processed_telco_churn.csv\"\n",
    "\n",
    "# Load the dataset\n",
    "data = pd.read_csv(processed_file)\n",
    "print(\"Original target labels:\", data['Churn'].unique())\n",
    "\n",
    "# Correct the target labels\n",
    "data['Churn'] = data['Churn'].apply(lambda x: 1 if x == 'Yes' else 0)\n",
    "\n",
    "# Verify the correction\n",
    "print(\"Corrected target labels:\", data['Churn'].unique())\n",
    "\n",
    "# Overwrite the processed file locally\n",
    "data.to_csv(processed_file, index=False)\n",
    "print(f\"Corrected dataset saved locally as {processed_file}.\")\n",
    "\n",
    "# Upload the corrected file to S3\n",
    "bucket_name = \"customerchurner\"  # Replace with your S3 bucket name\n",
    "processed_key = \"processed/processed_telco_churn.csv\"  # S3 key for the file\n",
    "\n",
    "# Upload to S3\n",
    "s3 = boto3.client('s3')\n",
    "s3.upload_file(processed_file, bucket_name, processed_key)\n",
    "print(f\"Corrected dataset uploaded to s3://{bucket_name}/{processed_key}\")\n"
   ]
  },
  {
   "cell_type": "code",
   "execution_count": 19,
   "id": "4540a5e4-f2da-4899-9dd5-762179cec1b2",
   "metadata": {},
   "outputs": [
    {
     "name": "stdout",
     "output_type": "stream",
     "text": [
      "Raw Data Sample:\n",
      "   customerID  gender  SeniorCitizen Partner Dependents  tenure PhoneService  \\\n",
      "0  7590-VHVEG  Female              0     Yes         No       1           No   \n",
      "1  5575-GNVDE    Male              0      No         No      34          Yes   \n",
      "2  3668-QPYBK    Male              0      No         No       2          Yes   \n",
      "3  7795-CFOCW    Male              0      No         No      45           No   \n",
      "4  9237-HQITU  Female              0      No         No       2          Yes   \n",
      "\n",
      "      MultipleLines InternetService OnlineSecurity  ... DeviceProtection  \\\n",
      "0  No phone service             DSL             No  ...               No   \n",
      "1                No             DSL            Yes  ...              Yes   \n",
      "2                No             DSL            Yes  ...               No   \n",
      "3  No phone service             DSL            Yes  ...              Yes   \n",
      "4                No     Fiber optic             No  ...               No   \n",
      "\n",
      "  TechSupport StreamingTV StreamingMovies        Contract PaperlessBilling  \\\n",
      "0          No          No              No  Month-to-month              Yes   \n",
      "1          No          No              No        One year               No   \n",
      "2          No          No              No  Month-to-month              Yes   \n",
      "3         Yes          No              No        One year               No   \n",
      "4          No          No              No  Month-to-month              Yes   \n",
      "\n",
      "               PaymentMethod MonthlyCharges  TotalCharges Churn  \n",
      "0           Electronic check          29.85         29.85    No  \n",
      "1               Mailed check          56.95        1889.5    No  \n",
      "2               Mailed check          53.85        108.15   Yes  \n",
      "3  Bank transfer (automatic)          42.30       1840.75    No  \n",
      "4           Electronic check          70.70        151.65   Yes  \n",
      "\n",
      "[5 rows x 21 columns]\n",
      "Unique values in 'Churn' column: ['No' 'Yes']\n",
      "Churn value counts:\n",
      "Churn\n",
      "No     5174\n",
      "Yes    1869\n",
      "Name: count, dtype: int64\n"
     ]
    }
   ],
   "source": [
    "import pandas as pd\n",
    "\n",
    "# Load the raw dataset\n",
    "raw_file = \"telco_churn.csv\"  # Replace with your raw dataset file path\n",
    "raw_data = pd.read_csv(raw_file)\n",
    "\n",
    "# Check the first few rows\n",
    "print(\"Raw Data Sample:\")\n",
    "print(raw_data.head())\n",
    "\n",
    "# Check unique values in the 'Churn' column\n",
    "print(\"Unique values in 'Churn' column:\", raw_data['Churn'].unique())\n",
    "\n",
    "# Count 'Yes' and 'No' values\n",
    "print(\"Churn value counts:\")\n",
    "print(raw_data['Churn'].value_counts())\n"
   ]
  },
  {
   "cell_type": "code",
   "execution_count": 1,
   "id": "9b0bb4ae-aa53-41a3-90ac-846656b9e9d9",
   "metadata": {},
   "outputs": [
    {
     "name": "stdout",
     "output_type": "stream",
     "text": [
      "Dataset sample:\n",
      "   customerID  gender  SeniorCitizen Partner Dependents  tenure PhoneService  \\\n",
      "0  7590-VHVEG  Female              0     Yes         No       1           No   \n",
      "1  5575-GNVDE    Male              0      No         No      34          Yes   \n",
      "2  3668-QPYBK    Male              0      No         No       2          Yes   \n",
      "3  7795-CFOCW    Male              0      No         No      45           No   \n",
      "4  9237-HQITU  Female              0      No         No       2          Yes   \n",
      "\n",
      "      MultipleLines InternetService OnlineSecurity  ... DeviceProtection  \\\n",
      "0  No phone service             DSL             No  ...               No   \n",
      "1                No             DSL            Yes  ...              Yes   \n",
      "2                No             DSL            Yes  ...               No   \n",
      "3  No phone service             DSL            Yes  ...              Yes   \n",
      "4                No     Fiber optic             No  ...               No   \n",
      "\n",
      "  TechSupport StreamingTV StreamingMovies        Contract PaperlessBilling  \\\n",
      "0          No          No              No  Month-to-month              Yes   \n",
      "1          No          No              No        One year               No   \n",
      "2          No          No              No  Month-to-month              Yes   \n",
      "3         Yes          No              No        One year               No   \n",
      "4          No          No              No  Month-to-month              Yes   \n",
      "\n",
      "               PaymentMethod MonthlyCharges  TotalCharges Churn  \n",
      "0           Electronic check          29.85         29.85    No  \n",
      "1               Mailed check          56.95        1889.5    No  \n",
      "2               Mailed check          53.85        108.15   Yes  \n",
      "3  Bank transfer (automatic)          42.30       1840.75    No  \n",
      "4           Electronic check          70.70        151.65   Yes  \n",
      "\n",
      "[5 rows x 21 columns]\n",
      "Data info:\n",
      "<class 'pandas.core.frame.DataFrame'>\n",
      "RangeIndex: 7043 entries, 0 to 7042\n",
      "Data columns (total 21 columns):\n",
      " #   Column            Non-Null Count  Dtype  \n",
      "---  ------            --------------  -----  \n",
      " 0   customerID        7043 non-null   object \n",
      " 1   gender            7043 non-null   object \n",
      " 2   SeniorCitizen     7043 non-null   int64  \n",
      " 3   Partner           7043 non-null   object \n",
      " 4   Dependents        7043 non-null   object \n",
      " 5   tenure            7043 non-null   int64  \n",
      " 6   PhoneService      7043 non-null   object \n",
      " 7   MultipleLines     7043 non-null   object \n",
      " 8   InternetService   7043 non-null   object \n",
      " 9   OnlineSecurity    7043 non-null   object \n",
      " 10  OnlineBackup      7043 non-null   object \n",
      " 11  DeviceProtection  7043 non-null   object \n",
      " 12  TechSupport       7043 non-null   object \n",
      " 13  StreamingTV       7043 non-null   object \n",
      " 14  StreamingMovies   7043 non-null   object \n",
      " 15  Contract          7043 non-null   object \n",
      " 16  PaperlessBilling  7043 non-null   object \n",
      " 17  PaymentMethod     7043 non-null   object \n",
      " 18  MonthlyCharges    7043 non-null   float64\n",
      " 19  TotalCharges      7043 non-null   object \n",
      " 20  Churn             7043 non-null   object \n",
      "dtypes: float64(1), int64(2), object(18)\n",
      "memory usage: 1.1+ MB\n",
      "None\n",
      "Unique values in 'Churn': ['No' 'Yes']\n"
     ]
    }
   ],
   "source": [
    "import pandas as pd\n",
    "\n",
    "# Load the dataset\n",
    "raw_file = \"telco_churn.csv\"  # Replace with the actual path\n",
    "raw_data = pd.read_csv(raw_file)\n",
    "\n",
    "# Preview the dataset\n",
    "print(\"Dataset sample:\")\n",
    "print(raw_data.head())\n",
    "\n",
    "# Check data types and non-null values\n",
    "print(\"Data info:\")\n",
    "print(raw_data.info())\n",
    "\n",
    "# Check the unique values in 'Churn' column\n",
    "print(\"Unique values in 'Churn':\", raw_data['Churn'].unique())\n"
   ]
  },
  {
   "cell_type": "code",
   "execution_count": 2,
   "id": "e10a008a-0357-47a3-a067-03d026a4c6ec",
   "metadata": {},
   "outputs": [
    {
     "name": "stdout",
     "output_type": "stream",
     "text": [
      "Missing values per column:\n",
      "customerID          0\n",
      "gender              0\n",
      "SeniorCitizen       0\n",
      "Partner             0\n",
      "Dependents          0\n",
      "tenure              0\n",
      "PhoneService        0\n",
      "MultipleLines       0\n",
      "InternetService     0\n",
      "OnlineSecurity      0\n",
      "OnlineBackup        0\n",
      "DeviceProtection    0\n",
      "TechSupport         0\n",
      "StreamingTV         0\n",
      "StreamingMovies     0\n",
      "Contract            0\n",
      "PaperlessBilling    0\n",
      "PaymentMethod       0\n",
      "MonthlyCharges      0\n",
      "TotalCharges        0\n",
      "Churn               0\n",
      "dtype: int64\n",
      "Shape after dropping missing values: (7043, 21)\n"
     ]
    }
   ],
   "source": [
    "# Check for missing values\n",
    "print(\"Missing values per column:\")\n",
    "print(raw_data.isnull().sum())\n",
    "\n",
    "# Drop rows with missing values\n",
    "raw_data = raw_data.dropna()\n",
    "print(f\"Shape after dropping missing values: {raw_data.shape}\")\n"
   ]
  },
  {
   "cell_type": "code",
   "execution_count": 3,
   "id": "c509b632-1888-4ef8-ae57-b9d7e393bd87",
   "metadata": {},
   "outputs": [
    {
     "name": "stdout",
     "output_type": "stream",
     "text": [
      "Unique values in 'Churn' after encoding: [0 1]\n"
     ]
    }
   ],
   "source": [
    "# Drop unnecessary columns\n",
    "data = raw_data.drop(columns=[\"customerID\"])  # 'customerID' is not useful for prediction\n",
    "\n",
    "# Encode the 'Churn' column\n",
    "data['Churn'] = data['Churn'].apply(lambda x: 1 if x == 'Yes' else 0)\n",
    "\n",
    "# Verify the unique values in 'Churn'\n",
    "print(\"Unique values in 'Churn' after encoding:\", data['Churn'].unique())\n"
   ]
  },
  {
   "cell_type": "code",
   "execution_count": 4,
   "id": "f78a5eec-d876-48f7-bc43-866cfaf590f7",
   "metadata": {},
   "outputs": [
    {
     "name": "stdout",
     "output_type": "stream",
     "text": [
      "object\n",
      "Number of missing TotalCharges after conversion: 11\n"
     ]
    }
   ],
   "source": [
    "# Check data type of TotalCharges\n",
    "print(data['TotalCharges'].dtype)\n",
    "\n",
    "# Convert TotalCharges to numeric, coercing errors\n",
    "data['TotalCharges'] = pd.to_numeric(data['TotalCharges'], errors='coerce')\n",
    "\n",
    "# Check for rows where TotalCharges could not be converted\n",
    "print(\"Number of missing TotalCharges after conversion:\", data['TotalCharges'].isnull().sum())\n",
    "\n",
    "# Drop rows with missing TotalCharges\n",
    "data = data.dropna(subset=['TotalCharges'])\n"
   ]
  },
  {
   "cell_type": "code",
   "execution_count": 5,
   "id": "15854a02-f9ac-4f8b-866e-ae2e8b2e78c0",
   "metadata": {},
   "outputs": [
    {
     "name": "stdout",
     "output_type": "stream",
     "text": [
      "Categorical columns: ['gender', 'Partner', 'Dependents', 'PhoneService', 'MultipleLines', 'InternetService', 'OnlineSecurity', 'OnlineBackup', 'DeviceProtection', 'TechSupport', 'StreamingTV', 'StreamingMovies', 'Contract', 'PaperlessBilling', 'PaymentMethod']\n",
      "Shape after encoding: (7032, 31)\n"
     ]
    }
   ],
   "source": [
    "# Identify categorical columns\n",
    "categorical_columns = data.select_dtypes(include=['object']).columns.tolist()\n",
    "print(\"Categorical columns:\", categorical_columns)\n",
    "\n",
    "# One-hot encode the categorical columns\n",
    "data = pd.get_dummies(data, columns=categorical_columns, drop_first=True)\n",
    "\n",
    "# Verify the shape after one-hot encoding\n",
    "print(\"Shape after encoding:\", data.shape)\n"
   ]
  },
  {
   "cell_type": "code",
   "execution_count": 6,
   "id": "b7341649-ed10-4ba5-834f-5a6e9878d3cd",
   "metadata": {},
   "outputs": [
    {
     "name": "stdout",
     "output_type": "stream",
     "text": [
      "Preprocessed dataset saved to processed_telco_churn.csv.\n"
     ]
    }
   ],
   "source": [
    "# Save the processed data locally\n",
    "processed_file = \"processed_telco_churn.csv\"\n",
    "data.to_csv(processed_file, index=False)\n",
    "\n",
    "print(f\"Preprocessed dataset saved to {processed_file}.\")\n"
   ]
  },
  {
   "cell_type": "code",
   "execution_count": 7,
   "id": "54483366-b65f-478f-a491-028125c48c32",
   "metadata": {},
   "outputs": [
    {
     "name": "stdout",
     "output_type": "stream",
     "text": [
      "Unique values in 'Churn': [0 1]\n",
      "Churn value counts:\n",
      " Churn\n",
      "0    5163\n",
      "1    1869\n",
      "Name: count, dtype: int64\n",
      "Final dataset shape: (7032, 31)\n"
     ]
    }
   ],
   "source": [
    "# Reload and verify the processed file\n",
    "processed_data = pd.read_csv(processed_file)\n",
    "\n",
    "# Verify target column\n",
    "print(\"Unique values in 'Churn':\", processed_data['Churn'].unique())\n",
    "print(\"Churn value counts:\\n\", processed_data['Churn'].value_counts())\n",
    "\n",
    "# Check the dataset structure\n",
    "print(\"Final dataset shape:\", processed_data.shape)\n"
   ]
  },
  {
   "cell_type": "code",
   "execution_count": 8,
   "id": "3241e3b6-f875-4af2-a9ef-bc8af4da45a1",
   "metadata": {},
   "outputs": [
    {
     "name": "stdout",
     "output_type": "stream",
     "text": [
      "Preprocessed dataset uploaded to s3://customerchurner/processed/processed_telco_churn.csv\n"
     ]
    }
   ],
   "source": [
    "import boto3\n",
    "\n",
    "bucket_name = \"customerchurner\"  # Your bucket name\n",
    "processed_key = \"processed/processed_telco_churn.csv\"\n",
    "\n",
    "s3 = boto3.client('s3')\n",
    "s3.upload_file(processed_file, bucket_name, processed_key)\n",
    "\n",
    "print(f\"Preprocessed dataset uploaded to s3://{bucket_name}/{processed_key}\")\n"
   ]
  },
  {
   "cell_type": "code",
   "execution_count": 9,
   "id": "9f45751c-b0e0-476f-a30f-0cc2c3aa8e0a",
   "metadata": {},
   "outputs": [
    {
     "name": "stdout",
     "output_type": "stream",
     "text": [
      "sagemaker.config INFO - Not applying SDK defaults from location: /etc/xdg/sagemaker/config.yaml\n",
      "sagemaker.config INFO - Not applying SDK defaults from location: /home/sagemaker-user/.config/sagemaker/config.yaml\n"
     ]
    },
    {
     "name": "stderr",
     "output_type": "stream",
     "text": [
      "INFO:sagemaker:Creating training-job with name: sagemaker-xgboost-2024-12-15-22-15-31-828\n"
     ]
    },
    {
     "name": "stdout",
     "output_type": "stream",
     "text": [
      "2024-12-15 22:15:34 Starting - Starting the training job...\n",
      "2024-12-15 22:15:47 Starting - Preparing the instances for training...\n",
      "2024-12-15 22:16:14 Downloading - Downloading input data...\n",
      "2024-12-15 22:16:55 Downloading - Downloading the training image...\n",
      "2024-12-15 22:17:35 Training - Training image download completed. Training in progress..\u001b[34m[2024-12-15 22:17:40.504 ip-10-0-106-112.ec2.internal:7 INFO utils.py:28] RULE_JOB_STOP_SIGNAL_FILENAME: None\u001b[0m\n",
      "\u001b[34m[2024-12-15 22:17:40.535 ip-10-0-106-112.ec2.internal:7 INFO profiler_config_parser.py:111] User has disabled profiler.\u001b[0m\n",
      "\u001b[34m[2024-12-15:22:17:40:INFO] Imported framework sagemaker_xgboost_container.training\u001b[0m\n",
      "\u001b[34m[2024-12-15:22:17:40:INFO] Failed to parse hyperparameter objective value binary:logistic to Json.\u001b[0m\n",
      "\u001b[34mReturning the value itself\u001b[0m\n",
      "\u001b[34m[2024-12-15:22:17:40:INFO] No GPUs detected (normal if no gpus installed)\u001b[0m\n",
      "\u001b[34m[2024-12-15:22:17:40:INFO] Running XGBoost Sagemaker in algorithm mode\u001b[0m\n",
      "\u001b[34m[2024-12-15:22:17:40:INFO] Determined delimiter of CSV input is ','\u001b[0m\n",
      "\u001b[34m[2024-12-15:22:17:40:INFO] files path: /opt/ml/input/data/train\u001b[0m\n",
      "\u001b[34m[2024-12-15:22:17:40:INFO] Determined delimiter of CSV input is ','\u001b[0m\n",
      "\u001b[34m[2024-12-15:22:17:40:INFO] Single node training.\u001b[0m\n",
      "\u001b[34m[2024-12-15:22:17:40:INFO] Train matrix has 7033 rows and 30 columns\u001b[0m\n",
      "\u001b[34m[2024-12-15 22:17:40.606 ip-10-0-106-112.ec2.internal:7 INFO json_config.py:92] Creating hook from json_config at /opt/ml/input/config/debughookconfig.json.\u001b[0m\n",
      "\u001b[34m[2024-12-15 22:17:40.607 ip-10-0-106-112.ec2.internal:7 INFO hook.py:207] tensorboard_dir has not been set for the hook. SMDebug will not be exporting tensorboard summaries.\u001b[0m\n",
      "\u001b[34m[2024-12-15 22:17:40.608 ip-10-0-106-112.ec2.internal:7 INFO hook.py:259] Saving to /opt/ml/output/tensors\u001b[0m\n",
      "\u001b[34m[2024-12-15 22:17:40.608 ip-10-0-106-112.ec2.internal:7 INFO state_store.py:77] The checkpoint config file /opt/ml/input/config/checkpointconfig.json does not exist.\u001b[0m\n",
      "\u001b[34m[2024-12-15:22:17:40:INFO] Debug hook created from config\u001b[0m\n",
      "\u001b[34m[22:17:40] WARNING: ../src/learner.cc:1061: Starting in XGBoost 1.3.0, the default evaluation metric used with the objective 'binary:logistic' was changed from 'error' to 'logloss'. Explicitly set eval_metric if you'd like to restore the old behavior.\u001b[0m\n",
      "\u001b[34m[0]#011train-logloss:0.59894\u001b[0m\n",
      "\u001b[34m[2024-12-15 22:17:40.630 ip-10-0-106-112.ec2.internal:7 INFO hook.py:428] Monitoring the collections: metrics\u001b[0m\n",
      "\u001b[34m[2024-12-15 22:17:40.632 ip-10-0-106-112.ec2.internal:7 INFO hook.py:491] Hook is writing from the hook with pid: 7\u001b[0m\n",
      "\u001b[34m[1]#011train-logloss:0.53563\u001b[0m\n",
      "\u001b[34m[2]#011train-logloss:0.49116\u001b[0m\n",
      "\u001b[34m[3]#011train-logloss:0.45926\u001b[0m\n",
      "\u001b[34m[4]#011train-logloss:0.43541\u001b[0m\n",
      "\u001b[34m[5]#011train-logloss:0.41767\u001b[0m\n",
      "\u001b[34m[6]#011train-logloss:0.40436\u001b[0m\n",
      "\u001b[34m[7]#011train-logloss:0.39423\u001b[0m\n",
      "\u001b[34m[8]#011train-logloss:0.38620\u001b[0m\n",
      "\u001b[34m[9]#011train-logloss:0.38063\u001b[0m\n",
      "\u001b[34m[10]#011train-logloss:0.37592\u001b[0m\n",
      "\u001b[34m[11]#011train-logloss:0.37227\u001b[0m\n",
      "\u001b[34m[12]#011train-logloss:0.36896\u001b[0m\n",
      "\u001b[34m[13]#011train-logloss:0.36621\u001b[0m\n",
      "\u001b[34m[14]#011train-logloss:0.36413\u001b[0m\n",
      "\u001b[34m[15]#011train-logloss:0.36242\u001b[0m\n",
      "\u001b[34m[16]#011train-logloss:0.36110\u001b[0m\n",
      "\u001b[34m[17]#011train-logloss:0.36052\u001b[0m\n",
      "\u001b[34m[18]#011train-logloss:0.35938\u001b[0m\n",
      "\u001b[34m[19]#011train-logloss:0.35819\u001b[0m\n",
      "\u001b[34m[20]#011train-logloss:0.35697\u001b[0m\n",
      "\u001b[34m[21]#011train-logloss:0.35508\u001b[0m\n",
      "\u001b[34m[22]#011train-logloss:0.35424\u001b[0m\n",
      "\u001b[34m[23]#011train-logloss:0.35312\u001b[0m\n",
      "\u001b[34m[24]#011train-logloss:0.35257\u001b[0m\n",
      "\u001b[34m[25]#011train-logloss:0.35147\u001b[0m\n",
      "\u001b[34m[26]#011train-logloss:0.35105\u001b[0m\n",
      "\u001b[34m[27]#011train-logloss:0.35064\u001b[0m\n",
      "\u001b[34m[28]#011train-logloss:0.34995\u001b[0m\n",
      "\u001b[34m[29]#011train-logloss:0.34924\u001b[0m\n",
      "\u001b[34m[30]#011train-logloss:0.34842\u001b[0m\n",
      "\u001b[34m[31]#011train-logloss:0.34813\u001b[0m\n",
      "\u001b[34m[32]#011train-logloss:0.34791\u001b[0m\n",
      "\u001b[34m[33]#011train-logloss:0.34762\u001b[0m\n",
      "\u001b[34m[34]#011train-logloss:0.34603\u001b[0m\n",
      "\u001b[34m[35]#011train-logloss:0.34494\u001b[0m\n",
      "\u001b[34m[36]#011train-logloss:0.34464\u001b[0m\n",
      "\u001b[34m[37]#011train-logloss:0.34429\u001b[0m\n",
      "\u001b[34m[38]#011train-logloss:0.34413\u001b[0m\n",
      "\u001b[34m[39]#011train-logloss:0.34374\u001b[0m\n",
      "\u001b[34m[40]#011train-logloss:0.34359\u001b[0m\n",
      "\u001b[34m[41]#011train-logloss:0.34291\u001b[0m\n",
      "\u001b[34m[42]#011train-logloss:0.34159\u001b[0m\n",
      "\u001b[34m[43]#011train-logloss:0.34108\u001b[0m\n",
      "\u001b[34m[44]#011train-logloss:0.34079\u001b[0m\n",
      "\u001b[34m[45]#011train-logloss:0.34009\u001b[0m\n",
      "\u001b[34m[46]#011train-logloss:0.33973\u001b[0m\n",
      "\u001b[34m[47]#011train-logloss:0.33904\u001b[0m\n",
      "\u001b[34m[48]#011train-logloss:0.33850\u001b[0m\n",
      "\u001b[34m[49]#011train-logloss:0.33828\u001b[0m\n",
      "\n",
      "2024-12-15 22:17:59 Uploading - Uploading generated training model\n",
      "2024-12-15 22:17:59 Completed - Training job completed\n",
      "Training seconds: 105\n",
      "Billable seconds: 105\n",
      "Training job started!\n"
     ]
    }
   ],
   "source": [
    "import sagemaker\n",
    "from sagemaker import Session\n",
    "from sagemaker.inputs import TrainingInput\n",
    "\n",
    "# SageMaker session and role\n",
    "session = sagemaker.Session()\n",
    "role = sagemaker.get_execution_role()  # IAM role for SageMaker\n",
    "\n",
    "# S3 paths\n",
    "bucket_name = \"customerchurner\"  # Replace with your bucket name\n",
    "processed_key = \"processed/processed_telco_churn.csv\"\n",
    "s3_input_path = f\"s3://{bucket_name}/{processed_key}\"\n",
    "s3_output_path = f\"s3://{bucket_name}/model-output/\"\n",
    "\n",
    "# Use the built-in XGBoost container image\n",
    "xgboost_image_uri = sagemaker.image_uris.retrieve(\n",
    "    framework=\"xgboost\",\n",
    "    region=session.boto_region_name,\n",
    "    version=\"1.3-1\"\n",
    ")\n",
    "\n",
    "# Define the XGBoost estimator\n",
    "xgboost_estimator = sagemaker.estimator.Estimator(\n",
    "    image_uri=xgboost_image_uri,\n",
    "    role=role,\n",
    "    instance_count=1,\n",
    "    instance_type=\"ml.m5.large\",\n",
    "    output_path=s3_output_path\n",
    ")\n",
    "\n",
    "# Set hyperparameters for XGBoost\n",
    "xgboost_estimator.set_hyperparameters(\n",
    "    objective=\"binary:logistic\",\n",
    "    num_round=50,\n",
    "    max_depth=5,\n",
    "    eta=0.2,\n",
    "    gamma=4,\n",
    "    min_child_weight=6,\n",
    "    subsample=0.8\n",
    ")\n",
    "\n",
    "# Define training input\n",
    "train_input = TrainingInput(s3_input_path, content_type=\"csv\")\n",
    "\n",
    "# Launch the training job\n",
    "xgboost_estimator.fit({\"train\": train_input})\n",
    "print(\"Training job started!\")\n"
   ]
  },
  {
   "cell_type": "code",
   "execution_count": 10,
   "id": "3293db34-4b61-46a2-aab4-86918e0f036a",
   "metadata": {},
   "outputs": [
    {
     "name": "stderr",
     "output_type": "stream",
     "text": [
      "INFO:sagemaker:Creating model with name: sagemaker-xgboost-2024-12-15-22-42-37-744\n",
      "INFO:sagemaker:Creating endpoint-config with name xgboost-churn-predictor\n",
      "INFO:sagemaker:Creating endpoint with name xgboost-churn-predictor\n"
     ]
    },
    {
     "name": "stdout",
     "output_type": "stream",
     "text": [
      "------!Model deployed successfully!\n"
     ]
    }
   ],
   "source": [
    "# Deploy the model\n",
    "predictor = xgboost_estimator.deploy(\n",
    "    initial_instance_count=1,  # Number of instances for deployment\n",
    "    instance_type=\"ml.m5.large\",  # Instance type for hosting\n",
    "    endpoint_name=\"xgboost-churn-predictor\"  # Unique endpoint name\n",
    ")\n",
    "\n",
    "print(\"Model deployed successfully!\")\n"
   ]
  },
  {
   "cell_type": "code",
   "execution_count": 15,
   "id": "024ed190-e9d2-4cf2-a021-1dab10427e06",
   "metadata": {},
   "outputs": [
    {
     "name": "stdout",
     "output_type": "stream",
     "text": [
      "Prediction response: b'0.299439936876297\\n'\n"
     ]
    }
   ],
   "source": [
    "import json\n",
    "\n",
    "# Sample input in CSV format (as a single instance)\n",
    "sample_input_csv = \"0.0,45.0,42.3,1840.75,1.0,0.0,0.0,0.0,0.0,1.0,0.0,0.0,0.0,0.0,1.0,0.0,0.0,0.0,1.0,0.0,1.0,0.0,0.0,0.0,1.0,0.0,0.0,0.0,0.0,0.0\"\n",
    "\n",
    "# Send the input to the endpoint\n",
    "response = predictor.predict(\n",
    "    sample_input_csv,  # CSV-formatted input\n",
    "    initial_args={\"ContentType\": \"text/csv\"}  # Specify content type\n",
    ")\n",
    "\n",
    "# Print the prediction response\n",
    "print(\"Prediction response:\", response)\n"
   ]
  },
  {
   "cell_type": "code",
   "execution_count": null,
   "id": "31f72441-45e1-4956-ba10-4d0abc226982",
   "metadata": {},
   "outputs": [],
   "source": []
  }
 ],
 "metadata": {
  "kernelspec": {
   "display_name": "Python 3 (ipykernel)",
   "language": "python",
   "name": "python3"
  },
  "language_info": {
   "codemirror_mode": {
    "name": "ipython",
    "version": 3
   },
   "file_extension": ".py",
   "mimetype": "text/x-python",
   "name": "python",
   "nbconvert_exporter": "python",
   "pygments_lexer": "ipython3",
   "version": "3.11.10"
  }
 },
 "nbformat": 4,
 "nbformat_minor": 5
}
